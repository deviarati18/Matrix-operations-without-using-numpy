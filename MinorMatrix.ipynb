{
 "cells": [
  {
   "cell_type": "code",
   "execution_count": 1,
   "id": "02baf760",
   "metadata": {},
   "outputs": [
    {
     "name": "stdout",
     "output_type": "stream",
     "text": [
      "Enter the elements of the Matrix :\n",
      "2\n",
      "3\n",
      "4\n",
      "2\n",
      "3\n",
      "6\n",
      "7\n",
      "4\n",
      "5\n",
      "[2, 3, 4]\n",
      "[2, 3, 6]\n",
      "[7, 4, 5]\n"
     ]
    }
   ],
   "source": [
    "# matrix input from user\n",
    "\n",
    "print(\"Enter the elements of the Matrix :\")\n",
    "A = [[int(input()) for i in range(3)] for i in range(3)]\n",
    "\n",
    "for i in A:\n",
    "    print(i)"
   ]
  },
  {
   "cell_type": "code",
   "execution_count": 2,
   "id": "601430aa",
   "metadata": {},
   "outputs": [],
   "source": [
    "\n",
    "M = []  # an empty list to which minor values are to be appended\n",
    "\n",
    "def determinant(X): # function to calculate determinant of each submatrix\n",
    "    dt = X[0][0] * X[1][1] - X[1][0] * X[0][1]\n",
    "    M.append(dt)  # determinant of each submatrix is appended to list M; M will finally contain the list of all minors of A\n",
    "    \n",
    "def minor(A, i, j):                           \n",
    "    X = [[x for x in row] for row in A] # X will have elements of each row of matrix A\n",
    "    X.pop(i)   # pop the ith row from X\n",
    "    for row in X :\n",
    "        row.pop(j)  # from each row in X, pop the jth column; now X is reduced to a submatrix of interest\n",
    "    determinant(X)  # call to the \"determinant\" function with X as its input"
   ]
  },
  {
   "cell_type": "code",
   "execution_count": 3,
   "id": "83ae1238",
   "metadata": {},
   "outputs": [],
   "source": [
    "def print_Minor():    # function to print the matrix of minors; M was a list(1D); it should be converted into a 3x3 matrix\n",
    "    Minors = [[0,0,0],[0,0,0],[0,0,0]]  # An 3x3 matrix that holds zeroes initially, is created \n",
    "    a = 0      # variable to iterate on elements of list M\n",
    "    for i in range(3):\n",
    "        for j in range(3):\n",
    "            Minors[i][j] = M[a]  # elements of M are arranged in a matrix form; zeroes of Minor matrix is replaced by values from M\n",
    "            a+=1   # updation of iteration variable for M\n",
    "    for i in Minors:  # print the new 3x3 matrix of minors\n",
    "        print(i)"
   ]
  },
  {
   "cell_type": "code",
   "execution_count": 4,
   "id": "e8503797",
   "metadata": {},
   "outputs": [
    {
     "name": "stdout",
     "output_type": "stream",
     "text": [
      "[-9, -32, -13]\n",
      "[-1, -18, -13]\n",
      "[6, 4, 0]\n"
     ]
    }
   ],
   "source": [
    "for i in range(3):\n",
    "    for j in range(3):\n",
    "        minor(A,i,j) # for each element in matrix A, calculate minor\n",
    "        \n",
    "print_Minor()  # call to print the matrix of minors\n"
   ]
  },
  {
   "cell_type": "markdown",
   "id": "a4b8ad4d",
   "metadata": {},
   "source": []
  }
 ],
 "metadata": {
  "kernelspec": {
   "display_name": "Python 3 (ipykernel)",
   "language": "python",
   "name": "python3"
  },
  "language_info": {
   "codemirror_mode": {
    "name": "ipython",
    "version": 3
   },
   "file_extension": ".py",
   "mimetype": "text/x-python",
   "name": "python",
   "nbconvert_exporter": "python",
   "pygments_lexer": "ipython3",
   "version": "3.9.12"
  }
 },
 "nbformat": 4,
 "nbformat_minor": 5
}
