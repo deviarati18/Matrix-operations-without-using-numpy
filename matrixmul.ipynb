{
 "cells": [
  {
   "cell_type": "markdown",
   "id": "2bd182cc",
   "metadata": {},
   "source": [
    "MATRIX MULTIPLICATION WITHOUT NUMPY\n"
   ]
  },
  {
   "cell_type": "markdown",
   "id": "d42911f7",
   "metadata": {},
   "source": [
    "step 1 : input the number of rows and columns of the matrices A and B from the user"
   ]
  },
  {
   "cell_type": "code",
   "execution_count": 39,
   "id": "ca1f6234",
   "metadata": {},
   "outputs": [
    {
     "name": "stdout",
     "output_type": "stream",
     "text": [
      "Enter No of rows of 1st Matrix: 2\n",
      "Enter No of columns of 1st Matrix: 3\n",
      "Enter No of rows of 2nd Matrix: 3\n",
      "Enter No of columns of 2nd Matrix: 2\n"
     ]
    }
   ],
   "source": [
    "      \n",
    "ra = int(input(\"Enter No of rows of 1st Matrix: \"))\n",
    "ca = int(input(\"Enter No of columns of 1st Matrix: \"))\n",
    "\n",
    "rb = int(input(\"Enter No of rows of 2nd Matrix: \"))\n",
    "cb = int(input(\"Enter No of columns of 2nd Matrix: \"))\n",
    "\n"
   ]
  },
  {
   "cell_type": "markdown",
   "id": "eb678523",
   "metadata": {},
   "source": [
    "step 2 : Check the condition for matrix multiplication no of columns in matrix A = no of rows in matrix B "
   ]
  },
  {
   "cell_type": "code",
   "execution_count": 40,
   "id": "80b865fb",
   "metadata": {},
   "outputs": [],
   "source": [
    " \n",
    "\n",
    "if ca != rb :\n",
    "\n",
    "    print(\"\\nNot possible\")"
   ]
  },
  {
   "cell_type": "markdown",
   "id": "e30c6ba3",
   "metadata": {},
   "source": [
    "step 3 : Initialise matrix A, B and the resultant matrix"
   ]
  },
  {
   "cell_type": "code",
   "execution_count": 41,
   "id": "5b4c29c2",
   "metadata": {},
   "outputs": [],
   "source": [
    "\n",
    "matA = []\n",
    "\n",
    "matB = []\n",
    "\n",
    "result = []"
   ]
  },
  {
   "cell_type": "markdown",
   "id": "08ad9724",
   "metadata": {},
   "source": [
    "step 4 : Inputting the elements of Matrix A from the user"
   ]
  },
  {
   "cell_type": "code",
   "execution_count": 42,
   "id": "1c9c2787",
   "metadata": {},
   "outputs": [
    {
     "name": "stdout",
     "output_type": "stream",
     "text": [
      "\n",
      "Enter The Values in the matrix A: \n",
      "2\n",
      "4\n",
      "3\n",
      "4\n",
      "5\n",
      "3\n",
      "2 4 3 \n",
      "4 5 3 \n"
     ]
    }
   ],
   "source": [
    "\n",
    "print(\"\\nEnter The Values in the matrix A: \")\n",
    "\n",
    "for i in range(ra):\n",
    "        g=[]\n",
    "        for j in range(ca):\n",
    "            g.append(int(input()))\n",
    "        matA.append(g)\n",
    "\n",
    "for i in range(ra): \n",
    "        for j in range(ca): \n",
    "            print(matA[i][j], end = \" \") \n",
    "        print() "
   ]
  },
  {
   "cell_type": "markdown",
   "id": "c3c7dc3d",
   "metadata": {},
   "source": [
    "step 5 : Inputting the elements of Matrix B from the user"
   ]
  },
  {
   "cell_type": "code",
   "execution_count": 43,
   "id": "fa655dfb",
   "metadata": {},
   "outputs": [
    {
     "name": "stdout",
     "output_type": "stream",
     "text": [
      "\n",
      "Enter The Values in the matrix B: \n",
      "1\n",
      "3\n",
      "4\n",
      "0\n",
      "3\n",
      "4\n",
      "1 3 \n",
      "4 0 \n",
      "3 4 \n"
     ]
    }
   ],
   "source": [
    "## \n",
    "print(\"\\nEnter The Values in the matrix B: \")\n",
    "\n",
    "for i in range(rb):\n",
    "        g=[]\n",
    "        for j in range(cb):\n",
    "            g.append(int(input()))\n",
    "        matB.append(g)\n",
    "\n",
    "for i in range(rb): \n",
    "        for j in range(cb): \n",
    "            print(matB[i][j], end = \" \") \n",
    "        print() "
   ]
  },
  {
   "cell_type": "markdown",
   "id": "97ef9561",
   "metadata": {},
   "source": [
    "step 6 : Initially set the values of result matrix as '0'\n",
    "\n",
    "step 7 : updating the result matrix in each iteration with the multiplication result"
   ]
  },
  {
   "cell_type": "code",
   "execution_count": 58,
   "id": "35aad8b8",
   "metadata": {},
   "outputs": [
    {
     "data": {
      "text/plain": [
       "[[0, 0], [0, 0]]"
      ]
     },
     "execution_count": 58,
     "metadata": {},
     "output_type": "execute_result"
    }
   ],
   "source": [
    "result=[[0 for i in range(cb)] for i in range(ra)]\n",
    "result "
   ]
  },
  {
   "cell_type": "code",
   "execution_count": 57,
   "id": "8d739fce",
   "metadata": {},
   "outputs": [
    {
     "name": "stdout",
     "output_type": "stream",
     "text": [
      "[27, 18]\n",
      "[33, 24]\n"
     ]
    }
   ],
   "source": [
    "\n",
    "for i in range(len(matA)):\n",
    "    for j in range(len(matB[0])):\n",
    "        for k in range(len(matB)):\n",
    "            result[i][j]+=matA[i][k] * matB[k][j]\n",
    "for r in result:\n",
    "    print(r)\n",
    "     \n"
   ]
  },
  {
   "cell_type": "markdown",
   "id": "5dfd61fb",
   "metadata": {},
   "source": [
    "MATRIX MULTIPLICATION USING NUMPY"
   ]
  },
  {
   "cell_type": "code",
   "execution_count": 51,
   "id": "9af63465",
   "metadata": {},
   "outputs": [
    {
     "data": {
      "text/plain": [
       "[[2, 4, 3], [4, 5, 3]]"
      ]
     },
     "execution_count": 51,
     "metadata": {},
     "output_type": "execute_result"
    }
   ],
   "source": [
    "matA"
   ]
  },
  {
   "cell_type": "code",
   "execution_count": 52,
   "id": "41ddfe6e",
   "metadata": {},
   "outputs": [
    {
     "data": {
      "text/plain": [
       "[[1, 3], [4, 0], [3, 4]]"
      ]
     },
     "execution_count": 52,
     "metadata": {},
     "output_type": "execute_result"
    }
   ],
   "source": [
    "matB\n"
   ]
  },
  {
   "cell_type": "code",
   "execution_count": 54,
   "id": "adbd707b",
   "metadata": {},
   "outputs": [
    {
     "data": {
      "text/plain": [
       "array([[27, 18],\n",
       "       [33, 24]])"
      ]
     },
     "execution_count": 54,
     "metadata": {},
     "output_type": "execute_result"
    }
   ],
   "source": [
    "import numpy as np\n",
    "np.dot(matA, matB)"
   ]
  }
 ],
 "metadata": {
  "kernelspec": {
   "display_name": "Python 3 (ipykernel)",
   "language": "python",
   "name": "python3"
  },
  "language_info": {
   "codemirror_mode": {
    "name": "ipython",
    "version": 3
   },
   "file_extension": ".py",
   "mimetype": "text/x-python",
   "name": "python",
   "nbconvert_exporter": "python",
   "pygments_lexer": "ipython3",
   "version": "3.9.12"
  }
 },
 "nbformat": 4,
 "nbformat_minor": 5
}
