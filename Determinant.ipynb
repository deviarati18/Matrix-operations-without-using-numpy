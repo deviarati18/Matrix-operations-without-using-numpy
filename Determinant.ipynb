{
 "cells": [
  {
   "cell_type": "code",
   "execution_count": 1,
   "id": "04cd7a81",
   "metadata": {},
   "outputs": [
    {
     "name": "stdout",
     "output_type": "stream",
     "text": [
      "Enter the elements of the Matrix :\n",
      "2\n",
      "3\n",
      "4\n",
      "2\n",
      "3\n",
      "6\n",
      "7\n",
      "4\n",
      "5\n",
      "[2, 3, 4]\n",
      "[2, 3, 6]\n",
      "[7, 4, 5]\n"
     ]
    }
   ],
   "source": [
    "# matrix input from user\n",
    "\n",
    "print(\"Enter the elements of the Matrix :\")\n",
    "A = [[int(input()) for i in range(3)] for i in range(3)]\n",
    "\n",
    "for i in A:\n",
    "    print(i)"
   ]
  },
  {
   "cell_type": "code",
   "execution_count": 2,
   "id": "800bc1c1",
   "metadata": {},
   "outputs": [],
   "source": [
    "M = []  # an empty list to which minor values are to be appended\n",
    "\n",
    "def determinant(X,no,c):   # function to calculate determinant of each submatrix; c = (-1)^(i+j); no is the element of row 1 of Matrix A\n",
    "    dt = c * no * (X[0][0] * X[1][1] - X[1][0] * X[0][1])\n",
    "    M.append(dt)\n",
    "    \n",
    "def minor(A, i, j,c):  # function to calculate minor, with var c = (-1)^(i+j) as input parameter; i = 0 since only first row of A is to be taken\n",
    "    no = A[i][j]  # no holds A[0][0], A[0][1], A[0][2]\n",
    "    X = [[x for x in row] for row in A]\n",
    "    X.pop(i)\n",
    "    for row in X :\n",
    "        row.pop(j)\n",
    "    determinant(X,no,c) # input to determinant function along with the ist row elements of A"
   ]
  },
  {
   "cell_type": "code",
   "execution_count": 3,
   "id": "bd43998a",
   "metadata": {},
   "outputs": [],
   "source": [
    "\n",
    "def A_det():  # function to calculate the determinant of A; values in M should be added up\n",
    "    sum = 0\n",
    "    for i in range(3):\n",
    "        sum += M[i]\n",
    "    print(sum)  # var sum contains the sum of elements of M; the determinant of A"
   ]
  },
  {
   "cell_type": "code",
   "execution_count": 4,
   "id": "ed5ecf1e",
   "metadata": {},
   "outputs": [
    {
     "name": "stdout",
     "output_type": "stream",
     "text": [
      "26.0\n"
     ]
    }
   ],
   "source": [
    "\n",
    "import math\n",
    "\n",
    "for j in range(3):\n",
    "    c = math.pow(-1,j)\n",
    "    minor(A,0,j,c)  # call to find minors of 1st row elements\n",
    "        \n",
    "A_det() # call to print the determinant of A\n"
   ]
  },
  {
   "cell_type": "markdown",
   "id": "069f6480",
   "metadata": {},
   "source": [
    "Devi. C Arati (CN.EN.P2DSC22003) Parvathy S. Menon(CB.EN.P2DSC22011)"
   ]
  }
 ],
 "metadata": {
  "kernelspec": {
   "display_name": "Python 3 (ipykernel)",
   "language": "python",
   "name": "python3"
  },
  "language_info": {
   "codemirror_mode": {
    "name": "ipython",
    "version": 3
   },
   "file_extension": ".py",
   "mimetype": "text/x-python",
   "name": "python",
   "nbconvert_exporter": "python",
   "pygments_lexer": "ipython3",
   "version": "3.9.12"
  }
 },
 "nbformat": 4,
 "nbformat_minor": 5
}
