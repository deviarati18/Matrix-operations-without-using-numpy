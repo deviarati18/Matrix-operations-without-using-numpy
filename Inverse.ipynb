{
 "cells": [
  {
   "cell_type": "code",
   "execution_count": 87,
   "id": "6895db08",
   "metadata": {},
   "outputs": [
    {
     "name": "stdout",
     "output_type": "stream",
     "text": [
      "Enter the elements of the Matrix :\n",
      "2\n",
      "3\n",
      "4\n",
      "2\n",
      "3\n",
      "6\n",
      "7\n",
      "4\n",
      "5\n",
      "[2, 3, 4]\n",
      "[2, 3, 6]\n",
      "[7, 4, 5]\n"
     ]
    }
   ],
   "source": [
    "# matrix input from user\n",
    "print(\"Enter the elements of the Matrix A :\")\n",
    "A = [[int(input()) for i in range(3)] for i in range(3)]\n",
    "\n",
    "for i in A:\n",
    "    print(i)\n",
    "    \n"
   ]
  },
  {
   "cell_type": "code",
   "execution_count": 88,
   "id": "42417a8a",
   "metadata": {},
   "outputs": [],
   "source": [
    "\n",
    "M = []  # an empty list to which minor values are to be appended\n",
    "\n",
    "def cofactor(X,c):  # function to calculate determinant of each submatrix and find the cofactors thereafter; c = (-1)^(i+j)\n",
    "    dt = (X[0][0] * X[1][1] - X[1][0] * X[0][1]) * c\n",
    "    M.append(dt)\n",
    "\n",
    "def minor(A, i, j, c):    # function to calculate minor, with var c = (-1)^(i+j) as input parameter\n",
    "    X = [[x for x in row] for row in A]\n",
    "    X.pop(i)\n",
    "    for row in X :\n",
    "        row.pop(j)\n",
    "     \n",
    "    \n",
    "    cofactor(X,c)\n",
    "      "
   ]
  },
  {
   "cell_type": "code",
   "execution_count": 89,
   "id": "9be63a9e",
   "metadata": {},
   "outputs": [],
   "source": [
    "cofactors = [[0,0,0],[0,0,0],[0,0,0]]\n",
    "\n",
    "def mat_cofactor():  # function to print the matrix of cofactors; M was a list(1D); it should be converted into a 3x3 matrix\n",
    "    \n",
    "    a = 0\n",
    "    for i in range(3):\n",
    "        for j in range(3):\n",
    "            cofactors[i][j] = M[a]\n",
    "            a+=1\n",
    "    return cofactors\n",
    "            \n",
    "Adj = [[0,0,0],[0,0,0],[0,0,0]]  # array of dim 3x3, initialized with zeroes, to hold the adjoint matrix\n",
    "\n",
    "def adjoint():  \n",
    "    \n",
    "    for i in range(3):\n",
    "        for j in range(3):\n",
    "            Adj[j][i] = cofactors[i][j]  # Adjoint of a matrix is the transpose of the matrix of its cofactors\n",
    "            \n",
    "    for row in Adj:\n",
    "        print(row)  # print the adjoint matrix\n",
    "    return Adj"
   ]
  },
  {
   "cell_type": "code",
   "execution_count": 90,
   "id": "13f8e76e",
   "metadata": {},
   "outputs": [
    {
     "name": "stdout",
     "output_type": "stream",
     "text": [
      "[-9.0, 1.0, 6.0]\n",
      "[32.0, -18.0, -4.0]\n",
      "[-13.0, 13.0, 0.0]\n"
     ]
    }
   ],
   "source": [
    "import math   # we use pow fuction from this library\n",
    "for i in range(3):\n",
    "    for j in range(3):\n",
    "        c = math.pow(-1,i+j)\n",
    "        minor(A,i,j,c)  # for each element in matrix A, calculate minor\n",
    "X=mat_cofactor()  # call to calculate the matrix of cofactors\n",
    "adj = adjoint()  # call to print the adjoint matrix of A"
   ]
  },
  {
   "cell_type": "code",
   "execution_count": 91,
   "id": "f0af91f2",
   "metadata": {},
   "outputs": [
    {
     "data": {
      "text/plain": [
       "[[-9.0, 32.0, -13.0], [1.0, -18.0, 13.0], [6.0, -4.0, 0.0]]"
      ]
     },
     "execution_count": 91,
     "metadata": {},
     "output_type": "execute_result"
    }
   ],
   "source": [
    "X # cofactors"
   ]
  },
  {
   "cell_type": "code",
   "execution_count": 92,
   "id": "52eb58cb",
   "metadata": {},
   "outputs": [
    {
     "data": {
      "text/plain": [
       "[[-9.0, 1.0, 6.0], [32.0, -18.0, -4.0], [-13.0, 13.0, 0.0]]"
      ]
     },
     "execution_count": 92,
     "metadata": {},
     "output_type": "execute_result"
    }
   ],
   "source": [
    "adj # adjoint"
   ]
  },
  {
   "cell_type": "code",
   "execution_count": 93,
   "id": "c6726abb",
   "metadata": {},
   "outputs": [
    {
     "data": {
      "text/plain": [
       "[[2, 3, 4], [2, 3, 6], [7, 4, 5]]"
      ]
     },
     "execution_count": 93,
     "metadata": {},
     "output_type": "execute_result"
    }
   ],
   "source": [
    "A # input matrix\n"
   ]
  },
  {
   "cell_type": "code",
   "execution_count": 94,
   "id": "9024dd2e",
   "metadata": {},
   "outputs": [],
   "source": [
    "k=[]\n",
    "def inv(det,a):\n",
    "    for i in range(3):\n",
    "        o = []\n",
    "        for j in range(3):\n",
    "            o.append(a[i][j]/det)\n",
    "        k.append(o)\n",
    "    for i in k:\n",
    "        print(i)"
   ]
  },
  {
   "cell_type": "code",
   "execution_count": 95,
   "id": "0a58d877",
   "metadata": {},
   "outputs": [
    {
     "name": "stdout",
     "output_type": "stream",
     "text": [
      "[-0.34615384615384615, 0.038461538461538464, 0.23076923076923078]\n",
      "[1.2307692307692308, -0.6923076923076923, -0.15384615384615385]\n",
      "[-0.5, 0.5, 0.0]\n"
     ]
    }
   ],
   "source": [
    "det = A[0][0]*X[0][0]+A[0][1]*X[0][1]+A[0][2]*X[0][2]\n",
    "inv(det,adj)"
   ]
  }
 ],
 "metadata": {
  "kernelspec": {
   "display_name": "Python 3 (ipykernel)",
   "language": "python",
   "name": "python3"
  },
  "language_info": {
   "codemirror_mode": {
    "name": "ipython",
    "version": 3
   },
   "file_extension": ".py",
   "mimetype": "text/x-python",
   "name": "python",
   "nbconvert_exporter": "python",
   "pygments_lexer": "ipython3",
   "version": "3.9.12"
  }
 },
 "nbformat": 4,
 "nbformat_minor": 5
}
