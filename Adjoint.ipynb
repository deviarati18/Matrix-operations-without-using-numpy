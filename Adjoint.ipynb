{
 "cells": [
  {
   "cell_type": "code",
   "execution_count": 1,
   "id": "6895db08",
   "metadata": {},
   "outputs": [
    {
     "name": "stdout",
     "output_type": "stream",
     "text": [
      "Enter the elements of the Matrix :\n",
      "2\n",
      "3\n",
      "4\n",
      "2\n",
      "3\n",
      "6\n",
      "7\n",
      "4\n",
      "5\n",
      "[2, 3, 4]\n",
      "[2, 3, 6]\n",
      "[7, 4, 5]\n"
     ]
    }
   ],
   "source": [
    "# matrix input from user\n",
    "print(\"Enter the elements of the Matrix :\")\n",
    "A = [[int(input()) for i in range(3)] for i in range(3)]\n",
    "\n",
    "for i in A:\n",
    "    print(i)"
   ]
  },
  {
   "cell_type": "code",
   "execution_count": 2,
   "id": "42417a8a",
   "metadata": {},
   "outputs": [],
   "source": [
    "\n",
    "M = []  # an empty list to which minor values are to be appended\n",
    "\n",
    "def cofactor(X,c):  # function to calculate determinant of each submatrix and find the cofactors thereafter; c = (-1)^(i+j)\n",
    "    dt = (X[0][0] * X[1][1] - X[1][0] * X[0][1]) * c\n",
    "    M.append(dt)\n",
    "\n",
    "def minor(A, i, j, c):    # function to calculate minor, with var c = (-1)^(i+j) as input parameter\n",
    "    X = [[x for x in row] for row in A]\n",
    "    X.pop(i)\n",
    "    for row in X :\n",
    "        row.pop(j)\n",
    "     \n",
    "    \n",
    "    cofactor(X,c)\n",
    "      "
   ]
  },
  {
   "cell_type": "code",
   "execution_count": 3,
   "id": "9be63a9e",
   "metadata": {},
   "outputs": [],
   "source": [
    "cofactors = [[0,0,0],[0,0,0],[0,0,0]]\n",
    "\n",
    "def mat_cofactor():  # function to print the matrix of cofactors; M was a list(1D); it should be converted into a 3x3 matrix\n",
    "    \n",
    "    a = 0\n",
    "    for i in range(3):\n",
    "        for j in range(3):\n",
    "            cofactors[i][j] = M[a]\n",
    "            a+=1\n",
    "            \n",
    "Adj = [[0,0,0],[0,0,0],[0,0,0]]  # array of dim 3x3, initialized with zeroes, to hold the adjoint matrix\n",
    "\n",
    "def adjoint():  \n",
    "    \n",
    "    for i in range(3):\n",
    "        for j in range(3):\n",
    "            Adj[j][i] = cofactors[i][j]  # Adjoint of a matrix is the transpose of the matrix of its cofactors\n",
    "            \n",
    "    for row in Adj:\n",
    "        print(row)  # print the adjoint matrix"
   ]
  },
  {
   "cell_type": "code",
   "execution_count": 4,
   "id": "13f8e76e",
   "metadata": {},
   "outputs": [
    {
     "name": "stdout",
     "output_type": "stream",
     "text": [
      "[-9.0, 1.0, 6.0]\n",
      "[32.0, -18.0, -4.0]\n",
      "[-13.0, 13.0, 0.0]\n"
     ]
    }
   ],
   "source": [
    "import math   # we use pow fuction from this library\n",
    "for i in range(3):\n",
    "    for j in range(3):\n",
    "        c = math.pow(-1,i+j)\n",
    "        minor(A,i,j,c)  # for each element in matrix A, calculate minor\n",
    "mat_cofactor()  # call to calculate the matrix of cofactors\n",
    "adjoint()  # call to print the adjoint matrix of A\n"
   ]
  }
 ],
 "metadata": {
  "kernelspec": {
   "display_name": "Python 3 (ipykernel)",
   "language": "python",
   "name": "python3"
  },
  "language_info": {
   "codemirror_mode": {
    "name": "ipython",
    "version": 3
   },
   "file_extension": ".py",
   "mimetype": "text/x-python",
   "name": "python",
   "nbconvert_exporter": "python",
   "pygments_lexer": "ipython3",
   "version": "3.9.12"
  }
 },
 "nbformat": 4,
 "nbformat_minor": 5
}
