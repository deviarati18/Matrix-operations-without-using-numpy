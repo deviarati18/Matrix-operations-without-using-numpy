{
 "cells": [
  {
   "cell_type": "markdown",
   "id": "618d4cd5",
   "metadata": {},
   "source": [
    "FINDING TRANSPOSE OF A MATRIX WITHOUT NUMPY"
   ]
  },
  {
   "cell_type": "markdown",
   "id": "5e321be4",
   "metadata": {},
   "source": [
    "step 1 : input the number of rows and columns of the matrices A and B from the user"
   ]
  },
  {
   "cell_type": "code",
   "execution_count": 1,
   "id": "3893f6e2",
   "metadata": {},
   "outputs": [
    {
     "name": "stdout",
     "output_type": "stream",
     "text": [
      "Enter No of rows of 1st Matrix: 2\n",
      "Enter No of columns of 1st Matrix: 3\n"
     ]
    }
   ],
   "source": [
    "ra = int(input(\"Enter No of rows of 1st Matrix: \"))\n",
    "ca = int(input(\"Enter No of columns of 1st Matrix: \"))"
   ]
  },
  {
   "cell_type": "markdown",
   "id": "e7c9acb1",
   "metadata": {},
   "source": [
    "step 2 : Initialise matrix A"
   ]
  },
  {
   "cell_type": "code",
   "execution_count": 2,
   "id": "05e30583",
   "metadata": {},
   "outputs": [],
   "source": [
    "matA = []"
   ]
  },
  {
   "cell_type": "markdown",
   "id": "9e357b86",
   "metadata": {},
   "source": [
    "step 3 : Inputting the elements of Matrix A from the user\n",
    "\n"
   ]
  },
  {
   "cell_type": "code",
   "execution_count": 3,
   "id": "d015119a",
   "metadata": {},
   "outputs": [
    {
     "name": "stdout",
     "output_type": "stream",
     "text": [
      "\n",
      "Enter The Values in the matrix A: \n",
      "3\n",
      "6\n",
      "2\n",
      "8\n",
      "9\n",
      "6\n",
      "3 6 2 \n",
      "8 9 6 \n"
     ]
    }
   ],
   "source": [
    "print(\"\\nEnter The Values in the matrix A: \")\n",
    "\n",
    "for i in range(ra):\n",
    "        g=[]\n",
    "        for j in range(ca):\n",
    "            g.append(int(input()))\n",
    "        matA.append(g)\n",
    "\n",
    "for i in range(ra): \n",
    "        for j in range(ca): \n",
    "            print(matA[i][j], end = \" \") \n",
    "        print() "
   ]
  },
  {
   "cell_type": "markdown",
   "id": "2027c376",
   "metadata": {},
   "source": [
    "Step 4 : perform the transpose operation on matrix A and store in B"
   ]
  },
  {
   "cell_type": "code",
   "execution_count": 4,
   "id": "f5067049",
   "metadata": {},
   "outputs": [
    {
     "name": "stdout",
     "output_type": "stream",
     "text": [
      "[[3, 8], [6, 9], [2, 6]]\n"
     ]
    }
   ],
   "source": [
    "matB= [[matA[j][i] for j in range(len(matA))] for i in range(len(matA[0]))]\n",
    "\n",
    "print(matB)\n"
   ]
  },
  {
   "cell_type": "markdown",
   "id": "156dbfcc",
   "metadata": {},
   "source": [
    "PERFORMING TRANSPOSE OF A MATRIX USING NUMPY"
   ]
  },
  {
   "cell_type": "code",
   "execution_count": 5,
   "id": "ee6b2640",
   "metadata": {},
   "outputs": [
    {
     "data": {
      "text/plain": [
       "array([[3, 6, 2],\n",
       "       [8, 9, 6]])"
      ]
     },
     "execution_count": 5,
     "metadata": {},
     "output_type": "execute_result"
    }
   ],
   "source": [
    "import numpy as np\n",
    "\n",
    "a=np.array (matA)\n",
    "a"
   ]
  },
  {
   "cell_type": "code",
   "execution_count": 6,
   "id": "41ba6989",
   "metadata": {},
   "outputs": [
    {
     "data": {
      "text/plain": [
       "array([[3, 8],\n",
       "       [6, 9],\n",
       "       [2, 6]])"
      ]
     },
     "execution_count": 6,
     "metadata": {},
     "output_type": "execute_result"
    }
   ],
   "source": [
    "matB=a.transpose()\n",
    "matB"
   ]
  }
 ],
 "metadata": {
  "kernelspec": {
   "display_name": "Python 3 (ipykernel)",
   "language": "python",
   "name": "python3"
  },
  "language_info": {
   "codemirror_mode": {
    "name": "ipython",
    "version": 3
   },
   "file_extension": ".py",
   "mimetype": "text/x-python",
   "name": "python",
   "nbconvert_exporter": "python",
   "pygments_lexer": "ipython3",
   "version": "3.9.12"
  }
 },
 "nbformat": 4,
 "nbformat_minor": 5
}
